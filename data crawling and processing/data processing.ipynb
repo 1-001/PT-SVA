{
 "cells": [
  {
   "cell_type": "code",
   "execution_count": 40,
   "id": "9e13b489",
   "metadata": {
    "ExecuteTime": {
     "end_time": "2024-05-26T12:51:23.595595Z",
     "start_time": "2024-05-26T12:51:23.584629Z"
    }
   },
   "outputs": [],
   "source": [
    "import pandas as pd"
   ]
  },
  {
   "cell_type": "code",
   "execution_count": 41,
   "id": "65d167fe",
   "metadata": {
    "ExecuteTime": {
     "end_time": "2024-05-26T12:51:24.842897Z",
     "start_time": "2024-05-26T12:51:24.217933Z"
    }
   },
   "outputs": [
    {
     "data": {
      "text/plain": "           cve_id                                        func_before  \\\n0  CVE-2022-32073  int wolfSSH_SFTP_RecvLSTAT(WOLFSSH* ssh, int r...   \n1  CVE-2020-11058  static BOOL rdp_read_font_capability_set(wStre...   \n2  CVE-2021-44926  GF_Err gf_bifs_dec_sf_field(GF_BifsDecoder * c...   \n3  CVE-2019-20395  int\\nresolve_superior_type(const char *name, c...   \n4  CVE-2022-24793  static pj_status_t get_name(int rec_counter, c...   \n\n       cwe_ids                                   cvss_vector  cvss_is_v3  \\\n0  ['CWE-190']  CVSS:3.1/AV:N/AC:L/PR:N/UI:N/S:U/C:H/I:H/A:H           0   \n1  ['CWE-119']  CVSS:3.1/AV:N/AC:H/PR:H/UI:N/S:U/C:N/I:N/A:L           0   \n2  ['CWE-476']  CVSS:3.1/AV:L/AC:L/PR:N/UI:R/S:U/C:N/I:N/A:H           0   \n3  ['CWE-674']  CVSS:3.1/AV:N/AC:L/PR:N/UI:R/S:U/C:N/I:N/A:H           0   \n4  ['CWE-120']  CVSS:3.1/AV:N/AC:L/PR:N/UI:N/S:U/C:N/I:N/A:H           0   \n\n         repo_name                                         commit_msg  \\\n0  wolfSSL/wolfssh  ASAN SFTP Fixes\\nWhen decoding SFTP messages, ...   \n1          FreeRDP  Fixed #6011: Bounds check in rdp_read_font_cap...   \n2             gpac                                        fixed #1961   \n3   CESNET/libyang  resovle BUGFIX handle cyclic typedefs with uni...   \n4  pjsip/pjproject  Merge pull request from GHSA-p6g5-v97c-w5q4\\n\\...   \n\n                                commit_hash  \\\n0  edb272e35ee57e7b89f3e127222c6981b6a1e730   \n1  3627aaf7d289315b614a584afb388f04abfb5bbf   \n2  f73da86bf32992f62b9ff2b9c9e853e3c97edf8e   \n3  4e610ccd87a2ba9413819777d508f71163fcc237   \n4  9fae8f43accef8ea65d4a8ae9cdf297c46cfe29a   \n\n                                             git_url  \\\n0  https://github.com/wolfSSL/wolfssh/commit/edb2...   \n1  https://github.com/FreeRDP/FreeRDP/commit/3627...   \n2  https://github.com/gpac/gpac/commit/f73da86bf3...   \n3  https://github.com/CESNET/libyang/commit/4e610...   \n4  https://github.com/pjsip/pjproject/commit/9fae...   \n\n                         file_path  ...  \\\n0                   src/wolfsftp.c  ...   \n1   libfreerdp/core/capabilities.c  ...   \n2          src/bifs/field_decode.c  ...   \n3                    src/resolve.c  ...   \n4  pjlib-util/src/pjlib-util/dns.c  ...   \n\n                               func_before_processed        cve_id_2 AV AC PR  \\\n0  int wolfSSH_SFTP_RecvLSTAT(WOLFSSH* ssh, int r...  CVE-2022-32073  N  L  N   \n1  static BOOL rdp_read_font_capability_set(wStre...  CVE-2020-11058  N  H  H   \n2  GF_Err gf_bifs_dec_sf_field(GF_BifsDecoder * c...  CVE-2021-44926  L  L  N   \n3  int resolve_superior_type(const char *name, co...  CVE-2019-20395  N  L  N   \n4  static pj_status_t get_name(int rec_counter, c...  CVE-2022-24793  N  L  N   \n\n  UI  S  C  I  A  \n0  N  U  H  H  H  \n1  N  U  N  N  L  \n2  R  U  N  N  H  \n3  R  U  N  N  H  \n4  N  U  N  N  H  \n\n[5 rows x 32 columns]",
      "text/html": "<div>\n<style scoped>\n    .dataframe tbody tr th:only-of-type {\n        vertical-align: middle;\n    }\n\n    .dataframe tbody tr th {\n        vertical-align: top;\n    }\n\n    .dataframe thead th {\n        text-align: right;\n    }\n</style>\n<table border=\"1\" class=\"dataframe\">\n  <thead>\n    <tr style=\"text-align: right;\">\n      <th></th>\n      <th>cve_id</th>\n      <th>func_before</th>\n      <th>cwe_ids</th>\n      <th>cvss_vector</th>\n      <th>cvss_is_v3</th>\n      <th>repo_name</th>\n      <th>commit_msg</th>\n      <th>commit_hash</th>\n      <th>git_url</th>\n      <th>file_path</th>\n      <th>...</th>\n      <th>func_before_processed</th>\n      <th>cve_id_2</th>\n      <th>AV</th>\n      <th>AC</th>\n      <th>PR</th>\n      <th>UI</th>\n      <th>S</th>\n      <th>C</th>\n      <th>I</th>\n      <th>A</th>\n    </tr>\n  </thead>\n  <tbody>\n    <tr>\n      <th>0</th>\n      <td>CVE-2022-32073</td>\n      <td>int wolfSSH_SFTP_RecvLSTAT(WOLFSSH* ssh, int r...</td>\n      <td>['CWE-190']</td>\n      <td>CVSS:3.1/AV:N/AC:L/PR:N/UI:N/S:U/C:H/I:H/A:H</td>\n      <td>0</td>\n      <td>wolfSSL/wolfssh</td>\n      <td>ASAN SFTP Fixes\\nWhen decoding SFTP messages, ...</td>\n      <td>edb272e35ee57e7b89f3e127222c6981b6a1e730</td>\n      <td>https://github.com/wolfSSL/wolfssh/commit/edb2...</td>\n      <td>src/wolfsftp.c</td>\n      <td>...</td>\n      <td>int wolfSSH_SFTP_RecvLSTAT(WOLFSSH* ssh, int r...</td>\n      <td>CVE-2022-32073</td>\n      <td>N</td>\n      <td>L</td>\n      <td>N</td>\n      <td>N</td>\n      <td>U</td>\n      <td>H</td>\n      <td>H</td>\n      <td>H</td>\n    </tr>\n    <tr>\n      <th>1</th>\n      <td>CVE-2020-11058</td>\n      <td>static BOOL rdp_read_font_capability_set(wStre...</td>\n      <td>['CWE-119']</td>\n      <td>CVSS:3.1/AV:N/AC:H/PR:H/UI:N/S:U/C:N/I:N/A:L</td>\n      <td>0</td>\n      <td>FreeRDP</td>\n      <td>Fixed #6011: Bounds check in rdp_read_font_cap...</td>\n      <td>3627aaf7d289315b614a584afb388f04abfb5bbf</td>\n      <td>https://github.com/FreeRDP/FreeRDP/commit/3627...</td>\n      <td>libfreerdp/core/capabilities.c</td>\n      <td>...</td>\n      <td>static BOOL rdp_read_font_capability_set(wStre...</td>\n      <td>CVE-2020-11058</td>\n      <td>N</td>\n      <td>H</td>\n      <td>H</td>\n      <td>N</td>\n      <td>U</td>\n      <td>N</td>\n      <td>N</td>\n      <td>L</td>\n    </tr>\n    <tr>\n      <th>2</th>\n      <td>CVE-2021-44926</td>\n      <td>GF_Err gf_bifs_dec_sf_field(GF_BifsDecoder * c...</td>\n      <td>['CWE-476']</td>\n      <td>CVSS:3.1/AV:L/AC:L/PR:N/UI:R/S:U/C:N/I:N/A:H</td>\n      <td>0</td>\n      <td>gpac</td>\n      <td>fixed #1961</td>\n      <td>f73da86bf32992f62b9ff2b9c9e853e3c97edf8e</td>\n      <td>https://github.com/gpac/gpac/commit/f73da86bf3...</td>\n      <td>src/bifs/field_decode.c</td>\n      <td>...</td>\n      <td>GF_Err gf_bifs_dec_sf_field(GF_BifsDecoder * c...</td>\n      <td>CVE-2021-44926</td>\n      <td>L</td>\n      <td>L</td>\n      <td>N</td>\n      <td>R</td>\n      <td>U</td>\n      <td>N</td>\n      <td>N</td>\n      <td>H</td>\n    </tr>\n    <tr>\n      <th>3</th>\n      <td>CVE-2019-20395</td>\n      <td>int\\nresolve_superior_type(const char *name, c...</td>\n      <td>['CWE-674']</td>\n      <td>CVSS:3.1/AV:N/AC:L/PR:N/UI:R/S:U/C:N/I:N/A:H</td>\n      <td>0</td>\n      <td>CESNET/libyang</td>\n      <td>resovle BUGFIX handle cyclic typedefs with uni...</td>\n      <td>4e610ccd87a2ba9413819777d508f71163fcc237</td>\n      <td>https://github.com/CESNET/libyang/commit/4e610...</td>\n      <td>src/resolve.c</td>\n      <td>...</td>\n      <td>int resolve_superior_type(const char *name, co...</td>\n      <td>CVE-2019-20395</td>\n      <td>N</td>\n      <td>L</td>\n      <td>N</td>\n      <td>R</td>\n      <td>U</td>\n      <td>N</td>\n      <td>N</td>\n      <td>H</td>\n    </tr>\n    <tr>\n      <th>4</th>\n      <td>CVE-2022-24793</td>\n      <td>static pj_status_t get_name(int rec_counter, c...</td>\n      <td>['CWE-120']</td>\n      <td>CVSS:3.1/AV:N/AC:L/PR:N/UI:N/S:U/C:N/I:N/A:H</td>\n      <td>0</td>\n      <td>pjsip/pjproject</td>\n      <td>Merge pull request from GHSA-p6g5-v97c-w5q4\\n\\...</td>\n      <td>9fae8f43accef8ea65d4a8ae9cdf297c46cfe29a</td>\n      <td>https://github.com/pjsip/pjproject/commit/9fae...</td>\n      <td>pjlib-util/src/pjlib-util/dns.c</td>\n      <td>...</td>\n      <td>static pj_status_t get_name(int rec_counter, c...</td>\n      <td>CVE-2022-24793</td>\n      <td>N</td>\n      <td>L</td>\n      <td>N</td>\n      <td>N</td>\n      <td>U</td>\n      <td>N</td>\n      <td>N</td>\n      <td>H</td>\n    </tr>\n  </tbody>\n</table>\n<p>5 rows × 32 columns</p>\n</div>"
     },
     "execution_count": 41,
     "metadata": {},
     "output_type": "execute_result"
    }
   ],
   "source": [
    "source_file = 'C:\\\\Users\\wjy\\PycharmProjects\\pythonProject1\\c_cpp\\新建文件夹 (6)\\\\valid.xlsx'\n",
    "data = pd.read_excel(source_file)\n",
    "\n",
    "data.head(5)"
   ]
  },
  {
   "cell_type": "code",
   "execution_count": 42,
   "id": "d074d20a",
   "metadata": {
    "ExecuteTime": {
     "end_time": "2024-05-26T12:51:25.828720Z",
     "start_time": "2024-05-26T12:51:25.821743Z"
    }
   },
   "outputs": [
    {
     "data": {
      "text/plain": "'static BOOL rdp_read_font_capability_set(wStream* s, UINT16 length, rdpSettings* settings)\\n{\\n\\tWINPR_UNUSED(settings);\\n\\tif (length > 5)\\n\\t\\tStream_Seek_UINT16(s); /* fontSupportFlags (2 bytes) */\\n\\n\\tif (length > 7)\\n\\t\\tStream_Seek_UINT16(s); /* pad2Octets (2 bytes) */\\n\\n\\treturn TRUE;\\n}'"
     },
     "execution_count": 42,
     "metadata": {},
     "output_type": "execute_result"
    }
   ],
   "source": [
    "data.iloc[1,13]"
   ]
  },
  {
   "cell_type": "code",
   "execution_count": 43,
   "id": "15738e59",
   "metadata": {
    "ExecuteTime": {
     "end_time": "2024-05-26T12:51:26.813148Z",
     "start_time": "2024-05-26T12:51:26.804177Z"
    }
   },
   "outputs": [],
   "source": [
    "import re\n",
    "code = data.iloc[1,13]\n",
    "code_without_comments = re.sub(r'//.*?\\n', '', code) \n",
    "code_without_comments = re.sub(r'^\\s*$', '', code_without_comments, flags=re.MULTILINE)  # 删除空行\n",
    "code_without_comments = re.sub(r'\\t', '', code_without_comments)  # 删除制表符\n",
    "code_without_comments = re.sub(r'^\\s+', '', code_without_comments, flags=re.MULTILINE)"
   ]
  },
  {
   "cell_type": "code",
   "execution_count": 44,
   "id": "ed79b594",
   "metadata": {
    "ExecuteTime": {
     "end_time": "2024-05-26T12:51:28.014583Z",
     "start_time": "2024-05-26T12:51:28.009599Z"
    }
   },
   "outputs": [
    {
     "data": {
      "text/plain": "'static BOOL rdp_read_font_capability_set(wStream* s, UINT16 length, rdpSettings* settings)\\n{\\nWINPR_UNUSED(settings);\\nif (length > 5)\\nStream_Seek_UINT16(s); /* fontSupportFlags (2 bytes) */\\nif (length > 7)\\nStream_Seek_UINT16(s); /* pad2Octets (2 bytes) */\\nreturn TRUE;\\n}'"
     },
     "execution_count": 44,
     "metadata": {},
     "output_type": "execute_result"
    }
   ],
   "source": [
    "code_without_comments"
   ]
  },
  {
   "cell_type": "code",
   "execution_count": 45,
   "id": "f62c7356",
   "metadata": {
    "ExecuteTime": {
     "end_time": "2024-05-26T12:51:28.936965Z",
     "start_time": "2024-05-26T12:51:28.921989Z"
    }
   },
   "outputs": [],
   "source": [
    "li = []\n",
    "li.append(code_without_comments)\n",
    "s = pd.DataFrame(li)\n",
    "# s.to_excel(\"C:/Data/Datasets/megavul_new/java/22.xlsx\", index=False)"
   ]
  },
  {
   "cell_type": "code",
   "execution_count": 46,
   "id": "4221371d",
   "metadata": {
    "ExecuteTime": {
     "end_time": "2024-05-26T12:51:30.282672Z",
     "start_time": "2024-05-26T12:51:30.268719Z"
    }
   },
   "outputs": [],
   "source": [
    "import re\n",
    "code2 = data.iloc[1,13]\n",
    "code_without_comments2 = re.sub(r'/\\*.*?\\*/', '', code2, flags=re.DOTALL)\n",
    "code_without_comments2 = re.sub(r'^\\s*$', '', code_without_comments2, flags=re.MULTILINE)  # 删除空行\n",
    "code_without_comments2 = re.sub(r'\\t', '', code_without_comments2)  # 删除制表符\n",
    "code_without_comments2 = re.sub(r'^\\s+', '', code_without_comments2, flags=re.MULTILINE)"
   ]
  },
  {
   "cell_type": "code",
   "execution_count": 47,
   "id": "b09acdf8",
   "metadata": {
    "ExecuteTime": {
     "end_time": "2024-05-26T12:51:31.219342Z",
     "start_time": "2024-05-26T12:51:31.205385Z"
    }
   },
   "outputs": [
    {
     "data": {
      "text/plain": "'static BOOL rdp_read_font_capability_set(wStream* s, UINT16 length, rdpSettings* settings)\\n{\\nWINPR_UNUSED(settings);\\nif (length > 5)\\nStream_Seek_UINT16(s); \\nif (length > 7)\\nStream_Seek_UINT16(s); \\nreturn TRUE;\\n}'"
     },
     "execution_count": 47,
     "metadata": {},
     "output_type": "execute_result"
    }
   ],
   "source": [
    "code_without_comments2"
   ]
  },
  {
   "cell_type": "code",
   "execution_count": 52,
   "id": "e1b61836",
   "metadata": {
    "ExecuteTime": {
     "end_time": "2024-05-26T12:51:39.829385Z",
     "start_time": "2024-05-26T12:51:39.810448Z"
    }
   },
   "outputs": [],
   "source": [
    "li = []\n",
    "li.append(code_without_comments2)\n",
    "s = pd.DataFrame(li)\n",
    "# s.to_excel(\"C:/Data/Datasets/megavul_new/java/33.xlsx\", index=False)"
   ]
  },
  {
   "cell_type": "code",
   "execution_count": 53,
   "id": "453ff584",
   "metadata": {
    "ExecuteTime": {
     "end_time": "2024-05-26T12:51:41.310145Z",
     "start_time": "2024-05-26T12:51:40.775246Z"
    }
   },
   "outputs": [],
   "source": [
    "for i in range(len(data)):\n",
    "    data.iloc[i,13] = re.sub(r'//.*?\\n', '', data.iloc[i,13]) \n",
    "    data.iloc[i,13] = re.sub(r'/\\*.*?\\*/', '', data.iloc[i,13], flags=re.DOTALL)\n",
    "    data.iloc[i,13] = re.sub(r'^\\s*$', '', data.iloc[i,13], flags=re.MULTILINE)  # 删除空行\n",
    "    data.iloc[i,13] = re.sub(r'\\t', '', data.iloc[i,13])  # 删除制表符\n",
    "    data.iloc[i,13] = re.sub(r'^\\s+', '', data.iloc[i,13], flags=re.MULTILINE)  #删除空格"
   ]
  },
  {
   "cell_type": "code",
   "execution_count": 54,
   "id": "2eeeeae5",
   "metadata": {
    "ExecuteTime": {
     "end_time": "2024-05-26T12:51:42.217688Z",
     "start_time": "2024-05-26T12:51:42.204731Z"
    }
   },
   "outputs": [],
   "source": [
    "# for i in range(len(data)):\n",
    "#     data.iloc[i,11] = re.sub(r'/\\*.*?\\*/', '', data.iloc[i,11], flags=re.DOTALL)\n",
    "#     data.iloc[i,11] = re.sub(r'^\\s*$', '', data.iloc[i,11], flags=re.MULTILINE)  # 删除空行\n",
    "#     data.iloc[i,11] = re.sub(r'\\t', '', data.iloc[i,11])  # 删除制表符\n",
    "#     data.iloc[i,11] = re.sub(r'^\\s+', '', data.iloc[i,11], flags=re.MULTILINE)"
   ]
  },
  {
   "cell_type": "code",
   "execution_count": 55,
   "id": "c0f4ba6f",
   "metadata": {
    "ExecuteTime": {
     "end_time": "2024-05-26T12:51:43.847370Z",
     "start_time": "2024-05-26T12:51:43.829029Z"
    }
   },
   "outputs": [
    {
     "data": {
      "text/plain": "'static BOOL rdp_read_font_capability_set(wStream* s, UINT16 length, rdpSettings* settings)\\n{\\nWINPR_UNUSED(settings);\\nif (length > 5)\\nStream_Seek_UINT16(s); \\nif (length > 7)\\nStream_Seek_UINT16(s); \\nreturn TRUE;\\n}'"
     },
     "execution_count": 55,
     "metadata": {},
     "output_type": "execute_result"
    }
   ],
   "source": [
    "data.iloc[1,13]"
   ]
  },
  {
   "cell_type": "code",
   "execution_count": 56,
   "id": "e9201181",
   "metadata": {
    "ExecuteTime": {
     "end_time": "2024-05-26T12:51:47.610018Z",
     "start_time": "2024-05-26T12:51:46.572106Z"
    }
   },
   "outputs": [],
   "source": [
    "data.to_excel(\"C:\\\\Users\\wjy\\PycharmProjects\\pythonProject1\\c_cpp\\新建文件夹 (6)\\\\valid.xlsx\", index=False)"
   ]
  },
  {
   "cell_type": "code",
   "execution_count": 56,
   "id": "c8538c11",
   "metadata": {
    "ExecuteTime": {
     "end_time": "2024-05-23T05:10:22.331568Z",
     "start_time": "2024-05-23T05:10:22.316568Z"
    }
   },
   "outputs": [],
   "source": []
  }
 ],
 "metadata": {
  "kernelspec": {
   "name": "python3",
   "language": "python",
   "display_name": "Python 3 (ipykernel)"
  },
  "language_info": {
   "codemirror_mode": {
    "name": "ipython",
    "version": 3
   },
   "file_extension": ".py",
   "mimetype": "text/x-python",
   "name": "python",
   "nbconvert_exporter": "python",
   "pygments_lexer": "ipython3",
   "version": "3.11.5"
  }
 },
 "nbformat": 4,
 "nbformat_minor": 5
}
